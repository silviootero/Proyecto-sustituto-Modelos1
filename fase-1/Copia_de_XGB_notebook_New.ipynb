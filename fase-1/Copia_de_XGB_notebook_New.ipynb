{
  "metadata": {
    "kernelspec": {
      "language": "python",
      "display_name": "Python 3",
      "name": "python3"
    },
    "language_info": {
      "pygments_lexer": "ipython3",
      "nbconvert_exporter": "python",
      "version": "3.6.4",
      "file_extension": ".py",
      "codemirror_mode": {
        "name": "ipython",
        "version": 3
      },
      "name": "python",
      "mimetype": "text/x-python"
    },
    "colab": {
      "provenance": [],
      "include_colab_link": true
    }
  },
  "nbformat_minor": 0,
  "nbformat": 4,
  "cells": [
    {
      "cell_type": "markdown",
      "metadata": {
        "id": "view-in-github",
        "colab_type": "text"
      },
      "source": [
        "<a href=\"https://colab.research.google.com/github/silviootero/Proyecto-sustituto-Modelos1/blob/main/Copia_de_XGB_notebook_New.ipynb\" target=\"_parent\"><img src=\"https://colab.research.google.com/assets/colab-badge.svg\" alt=\"Open In Colab\"/></a>"
      ]
    },
    {
      "cell_type": "markdown",
      "source": [
        "# Seoul Bike Rental"
      ],
      "metadata": {
        "id": "nqePNWluZUA_"
      }
    },
    {
      "cell_type": "markdown",
      "source": [
        "#### Importing necessary libraries"
      ],
      "metadata": {
        "id": "XCac1UKVZUBE"
      }
    },
    {
      "cell_type": "code",
      "source": [
        "import numpy as np\n",
        "import pandas as pd\n",
        "import os\n",
        "import matplotlib.pyplot as plt\n",
        "import seaborn as sns\n",
        "from sklearn.metrics import mean_squared_log_error\n",
        "from scipy import stats"
      ],
      "metadata": {
        "execution": {
          "iopub.status.busy": "2021-08-07T01:27:59.573846Z",
          "iopub.execute_input": "2021-08-07T01:27:59.574392Z",
          "iopub.status.idle": "2021-08-07T01:27:59.578749Z",
          "shell.execute_reply.started": "2021-08-07T01:27:59.574344Z",
          "shell.execute_reply": "2021-08-07T01:27:59.577867Z"
        },
        "trusted": true,
        "id": "QqxFZtkmZUBF"
      },
      "execution_count": null,
      "outputs": []
    },
    {
      "cell_type": "markdown",
      "source": [
        "#### Loading datasets into notebook"
      ],
      "metadata": {
        "id": "DpuEw7knZUBH"
      }
    },
    {
      "cell_type": "code",
      "source": [
        "dir_path = '/kaggle/input/seoul-bike-rental-ai-pro-iti'\n",
        "\n",
        "df_train = pd.read_csv(os.path.join(dir_path, 'train.csv'))\n",
        "df_test = pd.read_csv(os.path.join(dir_path, 'test.csv'))\n",
        "\n",
        "df_test_ids = df_test['ID']\n",
        "df_train = df_train.drop(columns = ['ID'])\n",
        "df_test = df_test.drop(columns = ['ID'])"
      ],
      "metadata": {
        "_uuid": "8f2839f25d086af736a60e9eeb907d3b93b6e0e5",
        "_cell_guid": "b1076dfc-b9ad-4769-8c92-a6c4dae69d19",
        "execution": {
          "iopub.status.busy": "2021-08-07T01:27:59.580078Z",
          "iopub.execute_input": "2021-08-07T01:27:59.58053Z",
          "iopub.status.idle": "2021-08-07T01:27:59.628772Z",
          "shell.execute_reply.started": "2021-08-07T01:27:59.580493Z",
          "shell.execute_reply": "2021-08-07T01:27:59.627863Z"
        },
        "trusted": true,
        "id": "ye7Tae0IZUBH"
      },
      "execution_count": null,
      "outputs": []
    },
    {
      "cell_type": "code",
      "source": [
        "df_train.head()"
      ],
      "metadata": {
        "execution": {
          "iopub.status.busy": "2021-08-07T01:27:59.630456Z",
          "iopub.execute_input": "2021-08-07T01:27:59.63074Z",
          "iopub.status.idle": "2021-08-07T01:27:59.653308Z",
          "shell.execute_reply.started": "2021-08-07T01:27:59.630714Z",
          "shell.execute_reply": "2021-08-07T01:27:59.652204Z"
        },
        "trusted": true,
        "id": "BfEyLEBsZUBI"
      },
      "execution_count": null,
      "outputs": []
    },
    {
      "cell_type": "code",
      "source": [
        "df_test.head()"
      ],
      "metadata": {
        "execution": {
          "iopub.status.busy": "2021-08-07T01:27:59.654762Z",
          "iopub.execute_input": "2021-08-07T01:27:59.655037Z",
          "iopub.status.idle": "2021-08-07T01:27:59.681774Z",
          "shell.execute_reply.started": "2021-08-07T01:27:59.65501Z",
          "shell.execute_reply": "2021-08-07T01:27:59.680718Z"
        },
        "trusted": true,
        "id": "7StGPe7CZUBI"
      },
      "execution_count": null,
      "outputs": []
    },
    {
      "cell_type": "markdown",
      "source": [
        "#### Reviewing data"
      ],
      "metadata": {
        "id": "i1oYjkNkZUBJ"
      }
    },
    {
      "cell_type": "code",
      "source": [
        "df_train.columns"
      ],
      "metadata": {
        "execution": {
          "iopub.status.busy": "2021-08-07T01:27:59.683312Z",
          "iopub.execute_input": "2021-08-07T01:27:59.683906Z",
          "iopub.status.idle": "2021-08-07T01:27:59.69451Z",
          "shell.execute_reply.started": "2021-08-07T01:27:59.683859Z",
          "shell.execute_reply": "2021-08-07T01:27:59.693432Z"
        },
        "trusted": true,
        "id": "HaT7tkDpZUBJ"
      },
      "execution_count": null,
      "outputs": []
    },
    {
      "cell_type": "code",
      "source": [
        "df_train.dtypes"
      ],
      "metadata": {
        "execution": {
          "iopub.status.busy": "2021-08-07T01:27:59.695772Z",
          "iopub.execute_input": "2021-08-07T01:27:59.696046Z",
          "iopub.status.idle": "2021-08-07T01:27:59.712833Z",
          "shell.execute_reply.started": "2021-08-07T01:27:59.696019Z",
          "shell.execute_reply": "2021-08-07T01:27:59.711612Z"
        },
        "trusted": true,
        "id": "QQwZNQQ6ZUBK"
      },
      "execution_count": null,
      "outputs": []
    },
    {
      "cell_type": "markdown",
      "source": [
        "### Fixing names of Temperature columns\n"
      ],
      "metadata": {
        "id": "I9WAcQ8cZUBK"
      }
    },
    {
      "cell_type": "code",
      "source": [
        "df_train = df_train.rename(columns = {df_train.columns[3] : 'Temperature (C)', df_train.columns[7] : 'Dew point temperature (C)'})\n",
        "df_test = df_test.rename(columns = {df_test.columns[2] : 'Temperature (C)', df_test.columns[6] : 'Dew point temperature (C)'})\n",
        "#df_train = df_train[df_train['Functioning Day'] != 'No']\n",
        "#df_train.drop(columns='Functioning Day', inplace=True)\n",
        "df_train.columns"
      ],
      "metadata": {
        "execution": {
          "iopub.status.busy": "2021-08-07T01:27:59.715572Z",
          "iopub.execute_input": "2021-08-07T01:27:59.716012Z",
          "iopub.status.idle": "2021-08-07T01:27:59.728464Z",
          "shell.execute_reply.started": "2021-08-07T01:27:59.715966Z",
          "shell.execute_reply": "2021-08-07T01:27:59.727455Z"
        },
        "trusted": true,
        "id": "h6lVUsPnZUBK"
      },
      "execution_count": null,
      "outputs": []
    },
    {
      "cell_type": "code",
      "source": [
        "df_train.describe()"
      ],
      "metadata": {
        "execution": {
          "iopub.status.busy": "2021-08-07T01:27:59.730162Z",
          "iopub.execute_input": "2021-08-07T01:27:59.730524Z",
          "iopub.status.idle": "2021-08-07T01:27:59.780896Z",
          "shell.execute_reply.started": "2021-08-07T01:27:59.730483Z",
          "shell.execute_reply": "2021-08-07T01:27:59.780094Z"
        },
        "trusted": true,
        "id": "rIzGfPYUZUBL"
      },
      "execution_count": null,
      "outputs": []
    },
    {
      "cell_type": "code",
      "source": [
        "df_train.isna().sum()"
      ],
      "metadata": {
        "execution": {
          "iopub.status.busy": "2021-08-07T01:27:59.782044Z",
          "iopub.execute_input": "2021-08-07T01:27:59.782536Z",
          "iopub.status.idle": "2021-08-07T01:27:59.795797Z",
          "shell.execute_reply.started": "2021-08-07T01:27:59.7825Z",
          "shell.execute_reply": "2021-08-07T01:27:59.79468Z"
        },
        "trusted": true,
        "id": "eGcNxhYEZUBL"
      },
      "execution_count": null,
      "outputs": []
    },
    {
      "cell_type": "markdown",
      "source": [
        "There are no missing values, so..That's a good start"
      ],
      "metadata": {
        "id": "9NtB5jFNZUBL"
      }
    },
    {
      "cell_type": "code",
      "source": [
        "df_train.var().sort_values(ascending = False)"
      ],
      "metadata": {
        "execution": {
          "iopub.status.busy": "2021-08-07T01:27:59.797213Z",
          "iopub.execute_input": "2021-08-07T01:27:59.797554Z",
          "iopub.status.idle": "2021-08-07T01:27:59.811442Z",
          "shell.execute_reply.started": "2021-08-07T01:27:59.797523Z",
          "shell.execute_reply": "2021-08-07T01:27:59.810404Z"
        },
        "trusted": true,
        "id": "uDpsOxSqZUBM"
      },
      "execution_count": null,
      "outputs": []
    },
    {
      "cell_type": "markdown",
      "source": [
        "We should keep an eye for 'Snowfall' and 'Solar Radiation' columns, Cause with a variance this low they might be adding an insignificant amount of information"
      ],
      "metadata": {
        "id": "0pQJ2mRXZUBM"
      }
    },
    {
      "cell_type": "code",
      "source": [
        "# we should drop after visualization so this cell should be moved\n",
        "#df_temp = df_train.drop(columns=[\"Holiday\", \"Date\", \"Rainfall(mm)\", \"Wind speed (m/s)\", Snowfall (cm)\"])"
      ],
      "metadata": {
        "execution": {
          "iopub.status.busy": "2021-08-07T01:27:59.812675Z",
          "iopub.execute_input": "2021-08-07T01:27:59.812946Z",
          "iopub.status.idle": "2021-08-07T01:27:59.81965Z",
          "shell.execute_reply.started": "2021-08-07T01:27:59.81292Z",
          "shell.execute_reply": "2021-08-07T01:27:59.818773Z"
        },
        "trusted": true,
        "id": "rFI9RjReZUBM"
      },
      "execution_count": null,
      "outputs": []
    },
    {
      "cell_type": "code",
      "source": [
        "def add_working_hour_column(df):\n",
        "    df[\"working_hour\"] = 0\n",
        "    df[\"working_hour\"] = ((df[\"Hour\"] >= 5) & (df[\"Hour\"] <= 20)).astype(int)\n",
        "    return df"
      ],
      "metadata": {
        "execution": {
          "iopub.status.busy": "2021-08-07T01:27:59.821009Z",
          "iopub.execute_input": "2021-08-07T01:27:59.82131Z",
          "iopub.status.idle": "2021-08-07T01:27:59.831334Z",
          "shell.execute_reply.started": "2021-08-07T01:27:59.821265Z",
          "shell.execute_reply": "2021-08-07T01:27:59.830163Z"
        },
        "trusted": true,
        "id": "8xpg8EjVZUBM"
      },
      "execution_count": null,
      "outputs": []
    },
    {
      "cell_type": "code",
      "source": [
        "df_train['Month'] = pd.DatetimeIndex(df_train['Date']).month\n",
        "df_train['Day'] = pd.DatetimeIndex(df_train['Date']).day\n",
        "df_train['Weekday'] = pd.DatetimeIndex(df_train['Date']).weekday\n",
        "df_test['Month'] = pd.DatetimeIndex(df_test['Date']).month\n",
        "df_test['Day'] = pd.DatetimeIndex(df_test['Date']).day\n",
        "df_test['Weekday'] = pd.DatetimeIndex(df_test['Date']).weekday"
      ],
      "metadata": {
        "execution": {
          "iopub.status.busy": "2021-08-07T01:27:59.833Z",
          "iopub.execute_input": "2021-08-07T01:27:59.833631Z",
          "iopub.status.idle": "2021-08-07T01:27:59.891493Z",
          "shell.execute_reply.started": "2021-08-07T01:27:59.833596Z",
          "shell.execute_reply": "2021-08-07T01:27:59.890331Z"
        },
        "trusted": true,
        "id": "b38jnXDQZUBM"
      },
      "execution_count": null,
      "outputs": []
    },
    {
      "cell_type": "code",
      "source": [
        "#df_train[\"m_d_h\"] = df_train[\"Month\"] * 30 + df_train[\"Day\"] * 24 + df_train[\"Hour\"]\n",
        "#df_test[\"m_d_h\"] = df_test[\"Month\"] * 30 + df_test[\"Day\"] * 24 + df_test[\"Hour\"]\n",
        "df_train.head()"
      ],
      "metadata": {
        "execution": {
          "iopub.status.busy": "2021-08-07T01:27:59.895381Z",
          "iopub.execute_input": "2021-08-07T01:27:59.895812Z",
          "iopub.status.idle": "2021-08-07T01:27:59.921889Z",
          "shell.execute_reply.started": "2021-08-07T01:27:59.895771Z",
          "shell.execute_reply": "2021-08-07T01:27:59.920701Z"
        },
        "trusted": true,
        "id": "pQZKY6z_ZUBN"
      },
      "execution_count": null,
      "outputs": []
    },
    {
      "cell_type": "code",
      "source": [
        "df_train=add_working_hour_column(df_train)\n",
        "df_test=add_working_hour_column(df_test)"
      ],
      "metadata": {
        "execution": {
          "iopub.status.busy": "2021-08-07T01:27:59.924891Z",
          "iopub.execute_input": "2021-08-07T01:27:59.925397Z",
          "iopub.status.idle": "2021-08-07T01:27:59.938448Z",
          "shell.execute_reply.started": "2021-08-07T01:27:59.925337Z",
          "shell.execute_reply": "2021-08-07T01:27:59.937427Z"
        },
        "trusted": true,
        "id": "hQgCGPsQZUBN"
      },
      "execution_count": null,
      "outputs": []
    },
    {
      "cell_type": "markdown",
      "source": [
        "# Some EDA"
      ],
      "metadata": {
        "id": "TTSScKHtZUBN"
      }
    },
    {
      "cell_type": "markdown",
      "source": [
        "#### We'll plot the scatter plot for some selected columns"
      ],
      "metadata": {
        "id": "toECyAezZUBN"
      }
    },
    {
      "cell_type": "code",
      "source": [
        "# feature=['y', 'Solar Radiation (MJ/m2)']\n",
        "# # IQR\n",
        "# Q1 = np.percentile(df_train[feature], 25,\n",
        "#                    interpolation = 'midpoint',axis=0)\n",
        "# print(Q1)\n",
        "# Q3 = np.percentile(df_train[feature], 75,\n",
        "#                    interpolation = 'midpoint',axis=0)\n",
        "# print(Q3)\n",
        "# IQR = Q3 - Q1\n",
        "\n",
        "# print(\"Old Shape: \", df_train.shape)\n",
        "\n",
        "# # Upper bound\n",
        "# upper = np.where(df_train[feature] >= (Q3+1.5*IQR))\n",
        "# # Lower bound\n",
        "# lower = np.where(df_train[feature] <= (Q1-1.5*IQR))\n",
        "\n",
        "# #Removing the Outliers\n",
        "# df_train.drop(upper[0], inplace = True, axis=0)\n",
        "# df_train.drop(lower[0], inplace = True, axis=0)\n",
        "\n",
        "# print(\"New Shape: \", df_train.shape)"
      ],
      "metadata": {
        "execution": {
          "iopub.status.busy": "2021-08-07T01:27:59.939894Z",
          "iopub.execute_input": "2021-08-07T01:27:59.940256Z",
          "iopub.status.idle": "2021-08-07T01:27:59.947983Z",
          "shell.execute_reply.started": "2021-08-07T01:27:59.94021Z",
          "shell.execute_reply": "2021-08-07T01:27:59.947015Z"
        },
        "trusted": true,
        "id": "hMXbf4R-ZUBN"
      },
      "execution_count": null,
      "outputs": []
    },
    {
      "cell_type": "markdown",
      "source": [
        "# **Encoding Categorical Columns**"
      ],
      "metadata": {
        "id": "hJTRT7ZeZUBO"
      }
    },
    {
      "cell_type": "code",
      "source": [
        "def get_temp_range(temp_val):\n",
        "    counter=1\n",
        "    for i in range(-20,41,10):\n",
        "        if temp_val <= i :\n",
        "            return counter\n",
        "        counter+=1\n",
        "    return 0"
      ],
      "metadata": {
        "execution": {
          "iopub.status.busy": "2021-08-07T01:27:59.949518Z",
          "iopub.execute_input": "2021-08-07T01:27:59.94993Z",
          "iopub.status.idle": "2021-08-07T01:27:59.961519Z",
          "shell.execute_reply.started": "2021-08-07T01:27:59.949886Z",
          "shell.execute_reply": "2021-08-07T01:27:59.960651Z"
        },
        "trusted": true,
        "id": "pvum-TZkZUBO"
      },
      "execution_count": null,
      "outputs": []
    },
    {
      "cell_type": "code",
      "source": [
        "# df_train[\"temp_range\"]=df_train['Temperature (C)'].apply(get_temp_range)\n",
        "# df_test[\"temp_range\"]=df_test['Temperature (C)'].apply(get_temp_range)\n",
        "df_train.head()"
      ],
      "metadata": {
        "execution": {
          "iopub.status.busy": "2021-08-07T01:27:59.96293Z",
          "iopub.execute_input": "2021-08-07T01:27:59.963363Z",
          "iopub.status.idle": "2021-08-07T01:27:59.997843Z",
          "shell.execute_reply.started": "2021-08-07T01:27:59.963318Z",
          "shell.execute_reply": "2021-08-07T01:27:59.996551Z"
        },
        "trusted": true,
        "id": "1YGE3Y0pZUBO"
      },
      "execution_count": null,
      "outputs": []
    },
    {
      "cell_type": "code",
      "source": [
        "def encode_categroical_features(df):\n",
        "    df[\"Seasons\"] = df[\"Seasons\"].astype(\"category\").cat.codes\n",
        "    df[\"Functioning Day\"] = df[\"Functioning Day\"].astype(\"category\").cat.codes\n",
        "    df[\"Holiday\"] = df[\"Holiday\"].astype(\"category\").cat.codes\n",
        "    return df\n"
      ],
      "metadata": {
        "execution": {
          "iopub.status.busy": "2021-08-07T01:27:59.999873Z",
          "iopub.execute_input": "2021-08-07T01:28:00.000381Z",
          "iopub.status.idle": "2021-08-07T01:28:00.008948Z",
          "shell.execute_reply.started": "2021-08-07T01:28:00.000331Z",
          "shell.execute_reply": "2021-08-07T01:28:00.007751Z"
        },
        "trusted": true,
        "id": "qZPV9yJtZUBO"
      },
      "execution_count": null,
      "outputs": []
    },
    {
      "cell_type": "code",
      "source": [
        "def pca_3_components(df, feature1, feature2, feature3,  new_col_name,df_test):\n",
        "    to_be_transformed = df[[feature1, feature2, feature3]]\n",
        "    to_be_transformed_test = df_test[[feature1, feature2, feature3]]\n",
        "    pca = PCA(n_components=1)\n",
        "    transformed_components = pca.fit_transform(to_be_transformed)\n",
        "    df[new_col_name] = transformed_components\n",
        "    df_test[new_col_name]=pca.transform(to_be_transformed_test)\n",
        "    df.drop(columns=[feature1, feature2, feature3],inplace=True)\n",
        "    df_test.drop(columns=[feature1, feature2, feature3],inplace=True)\n",
        "    return df"
      ],
      "metadata": {
        "execution": {
          "iopub.status.busy": "2021-08-07T01:28:00.010721Z",
          "iopub.execute_input": "2021-08-07T01:28:00.011427Z",
          "iopub.status.idle": "2021-08-07T01:28:00.019946Z",
          "shell.execute_reply.started": "2021-08-07T01:28:00.011378Z",
          "shell.execute_reply": "2021-08-07T01:28:00.018808Z"
        },
        "trusted": true,
        "id": "CUjiHzLxZUBP"
      },
      "execution_count": null,
      "outputs": []
    },
    {
      "cell_type": "code",
      "source": [
        "def filter_functioning_day(df):\n",
        "    df_columns=df.columns\n",
        "    for col in df_columns:\n",
        "        df[col]=df[col]*df['Functioning Day']\n",
        "    return df"
      ],
      "metadata": {
        "execution": {
          "iopub.status.busy": "2021-08-07T01:28:00.021379Z",
          "iopub.execute_input": "2021-08-07T01:28:00.02189Z",
          "iopub.status.idle": "2021-08-07T01:28:00.029556Z",
          "shell.execute_reply.started": "2021-08-07T01:28:00.021855Z",
          "shell.execute_reply": "2021-08-07T01:28:00.028673Z"
        },
        "trusted": true,
        "id": "bhMg4BF2ZUBP"
      },
      "execution_count": null,
      "outputs": []
    },
    {
      "cell_type": "code",
      "source": [
        "def replace_outlaires(df):\n",
        "    for feature in df.drop(columns=[\"Hour\", \"Month\", \"Day\",'Functioning Day','Seasons']).columns:\n",
        "        # IQR\n",
        "        Q1 = np.percentile(df[feature], 25,\n",
        "                           interpolation = 'midpoint')\n",
        "        Q3 = np.percentile(df[feature], 75,\n",
        "                           interpolation = 'midpoint')\n",
        "        IQR = Q3 - Q1\n",
        "\n",
        "        upperL = Q3 + 1.5*IQR\n",
        "        lowerL = Q1 - 1.5*IQR\n",
        "        df[feature] = df[feature].map(lambda val: (val if val < upperL else upperL))\n",
        "        df[feature] = df[feature].map(lambda val: (val if val > lowerL else lowerL))\n",
        "\n",
        "    print(\"New Shape: \", df.shape)\n",
        "    return df"
      ],
      "metadata": {
        "execution": {
          "iopub.status.busy": "2021-08-07T01:28:00.03084Z",
          "iopub.execute_input": "2021-08-07T01:28:00.031331Z",
          "iopub.status.idle": "2021-08-07T01:28:00.040369Z",
          "shell.execute_reply.started": "2021-08-07T01:28:00.031272Z",
          "shell.execute_reply": "2021-08-07T01:28:00.039255Z"
        },
        "trusted": true,
        "id": "bHmfgfjpZUBP"
      },
      "execution_count": null,
      "outputs": []
    },
    {
      "cell_type": "code",
      "source": [
        " def pre_processing(df):\n",
        "    columns_to_drop=['Date', 'Snowfall (cm)', 'Holiday', 'Wind speed (m/s)']\n",
        "    df=encode_categroical_features(df)\n",
        "    df=df.drop(columns=columns_to_drop)\n",
        "#     _ = pca_3_components(df, \"Day\", \"Month\", \"m_d_h\", \"D_M\",df_test)\n",
        "    #df=filter_functioning_day(df)\n",
        "    return df"
      ],
      "metadata": {
        "execution": {
          "iopub.status.busy": "2021-08-07T01:28:00.041871Z",
          "iopub.execute_input": "2021-08-07T01:28:00.042217Z",
          "iopub.status.idle": "2021-08-07T01:28:00.054987Z",
          "shell.execute_reply.started": "2021-08-07T01:28:00.042183Z",
          "shell.execute_reply": "2021-08-07T01:28:00.05376Z"
        },
        "trusted": true,
        "id": "nOG8w0WDZUBP"
      },
      "execution_count": null,
      "outputs": []
    },
    {
      "cell_type": "markdown",
      "source": [
        "# **Now let's see heat map to check for corrolation**"
      ],
      "metadata": {
        "id": "CjcyZ5adZUBQ"
      }
    },
    {
      "cell_type": "code",
      "source": [
        "#corr_mat = df_train.corr()\n",
        "#fig = plt.figure(figsize = (14, 14))\n",
        "#sns.heatmap(corr_mat, annot= True)\n",
        "#plt.show()"
      ],
      "metadata": {
        "execution": {
          "iopub.status.busy": "2021-08-07T01:28:00.056705Z",
          "iopub.execute_input": "2021-08-07T01:28:00.057226Z",
          "iopub.status.idle": "2021-08-07T01:28:00.065617Z",
          "shell.execute_reply.started": "2021-08-07T01:28:00.057179Z",
          "shell.execute_reply": "2021-08-07T01:28:00.064691Z"
        },
        "trusted": true,
        "id": "du5Ish06ZUBQ"
      },
      "execution_count": null,
      "outputs": []
    },
    {
      "cell_type": "markdown",
      "source": [
        "* We can see strong corrolation between temp and dew point temp, so we can drop dew point\n",
        "* Snowfall, Rainfall, Holiday and FunctioningDay can be droped"
      ],
      "metadata": {
        "id": "2O7F8DTQZUBQ"
      }
    },
    {
      "cell_type": "code",
      "source": [
        "from sklearn.decomposition import PCA\n",
        "def pca_2_components(df, feature1, feature2,  new_col_name , df_test):\n",
        "    to_be_transformed = df[[feature1, feature2]]\n",
        "    to_be_transformed_test = df_test[[feature1, feature2]]\n",
        "    pca = PCA(n_components=1)\n",
        "    transformed_components = pca.fit_transform(to_be_transformed)\n",
        "    df[new_col_name] = transformed_components\n",
        "    df_test[new_col_name]= pca.transform(to_be_transformed_test)\n",
        "    df.drop(columns=[feature1,feature2],inplace=True)\n",
        "    df_test.drop(columns=[feature1,feature2],inplace=True)\n",
        "    return df"
      ],
      "metadata": {
        "execution": {
          "iopub.status.busy": "2021-08-07T01:28:00.067254Z",
          "iopub.execute_input": "2021-08-07T01:28:00.068025Z",
          "iopub.status.idle": "2021-08-07T01:28:00.077326Z",
          "shell.execute_reply.started": "2021-08-07T01:28:00.067978Z",
          "shell.execute_reply": "2021-08-07T01:28:00.076352Z"
        },
        "trusted": true,
        "id": "_EmkrJbzZUBQ"
      },
      "execution_count": null,
      "outputs": []
    },
    {
      "cell_type": "code",
      "source": [
        "pca_2_components(df_train, 'Dew point temperature (C)', 'Temperature (C)', 'temp_pca',df_test)\n",
        "#pca_2_components(df_train, 'Solar Radiation (MJ/m2)', 'working_hour', 'solar_work_pca',df_test)\n",
        "columns_to_drop_aftePCA=['Dew point temperature (C)', 'Temperature (C)']"
      ],
      "metadata": {
        "execution": {
          "iopub.status.busy": "2021-08-07T01:28:00.078954Z",
          "iopub.execute_input": "2021-08-07T01:28:00.079693Z",
          "iopub.status.idle": "2021-08-07T01:28:00.10624Z",
          "shell.execute_reply.started": "2021-08-07T01:28:00.079645Z",
          "shell.execute_reply": "2021-08-07T01:28:00.105278Z"
        },
        "trusted": true,
        "id": "P4d8G8RLZUBQ"
      },
      "execution_count": null,
      "outputs": []
    },
    {
      "cell_type": "code",
      "source": [
        "df_temp =pre_processing(df_train)"
      ],
      "metadata": {
        "execution": {
          "iopub.status.busy": "2021-08-07T01:28:00.108848Z",
          "iopub.execute_input": "2021-08-07T01:28:00.109205Z",
          "iopub.status.idle": "2021-08-07T01:28:00.120349Z",
          "shell.execute_reply.started": "2021-08-07T01:28:00.109171Z",
          "shell.execute_reply": "2021-08-07T01:28:00.119425Z"
        },
        "trusted": true,
        "id": "ZYb-UYq2ZUBR"
      },
      "execution_count": null,
      "outputs": []
    },
    {
      "cell_type": "code",
      "source": [
        "df_temp=replace_outlaires(df_temp)"
      ],
      "metadata": {
        "execution": {
          "iopub.status.busy": "2021-08-07T01:28:00.121806Z",
          "iopub.execute_input": "2021-08-07T01:28:00.122383Z",
          "iopub.status.idle": "2021-08-07T01:28:00.219472Z",
          "shell.execute_reply.started": "2021-08-07T01:28:00.122333Z",
          "shell.execute_reply": "2021-08-07T01:28:00.218461Z"
        },
        "trusted": true,
        "id": "H3bQ1EQPZUBW"
      },
      "execution_count": null,
      "outputs": []
    },
    {
      "cell_type": "code",
      "source": [
        "# corr_mat = df_temp.corr()\n",
        "# fig = plt.figure(figsize = (14, 14))\n",
        "# sns.heatmap(corr_mat, annot= True)\n",
        "# plt.show()"
      ],
      "metadata": {
        "execution": {
          "iopub.status.busy": "2021-08-07T01:28:00.22126Z",
          "iopub.execute_input": "2021-08-07T01:28:00.221709Z",
          "iopub.status.idle": "2021-08-07T01:28:00.22599Z",
          "shell.execute_reply.started": "2021-08-07T01:28:00.221665Z",
          "shell.execute_reply": "2021-08-07T01:28:00.224854Z"
        },
        "trusted": true,
        "id": "AudxoifLZUBY"
      },
      "execution_count": null,
      "outputs": []
    },
    {
      "cell_type": "markdown",
      "source": [
        "# # **Model**"
      ],
      "metadata": {
        "id": "U6fiVzU8ZUBZ"
      }
    },
    {
      "cell_type": "markdown",
      "source": [
        "### Functioning Day filteration"
      ],
      "metadata": {
        "id": "OHJ2UHBzZUBZ"
      }
    },
    {
      "cell_type": "code",
      "source": [
        "\n",
        "df_temp[df_temp['Functioning Day']==0]"
      ],
      "metadata": {
        "execution": {
          "iopub.status.busy": "2021-08-07T01:28:00.227774Z",
          "iopub.execute_input": "2021-08-07T01:28:00.228366Z",
          "iopub.status.idle": "2021-08-07T01:28:00.266329Z",
          "shell.execute_reply.started": "2021-08-07T01:28:00.22832Z",
          "shell.execute_reply": "2021-08-07T01:28:00.265112Z"
        },
        "trusted": true,
        "id": "IzcF-nEOZUBZ"
      },
      "execution_count": null,
      "outputs": []
    },
    {
      "cell_type": "code",
      "source": [
        "#df_temp['y'] = np.log1p(df_temp['y'])"
      ],
      "metadata": {
        "execution": {
          "iopub.status.busy": "2021-08-07T01:28:00.267719Z",
          "iopub.execute_input": "2021-08-07T01:28:00.268086Z",
          "iopub.status.idle": "2021-08-07T01:28:00.271863Z",
          "shell.execute_reply.started": "2021-08-07T01:28:00.268055Z",
          "shell.execute_reply": "2021-08-07T01:28:00.270972Z"
        },
        "trusted": true,
        "id": "fiakmGIfZUBa"
      },
      "execution_count": null,
      "outputs": []
    },
    {
      "cell_type": "code",
      "source": [
        "from sklearn.linear_model import LinearRegression\n",
        "from sklearn.model_selection import train_test_split\n",
        "from sklearn.preprocessing import StandardScaler,MinMaxScaler\n",
        "\n",
        "X_train, X_test, y_train, y_test = train_test_split(df_temp.drop(columns=['y', 'Month', 'Day']), df_temp[\"y\"], test_size=0.005, random_state=42)"
      ],
      "metadata": {
        "execution": {
          "iopub.status.busy": "2021-08-07T01:28:00.273109Z",
          "iopub.execute_input": "2021-08-07T01:28:00.273707Z",
          "iopub.status.idle": "2021-08-07T01:28:00.287557Z",
          "shell.execute_reply.started": "2021-08-07T01:28:00.273677Z",
          "shell.execute_reply": "2021-08-07T01:28:00.286494Z"
        },
        "trusted": true,
        "id": "5szZsdPvZUBa"
      },
      "execution_count": null,
      "outputs": []
    },
    {
      "cell_type": "code",
      "source": [
        "df_temp.describe()"
      ],
      "metadata": {
        "execution": {
          "iopub.status.busy": "2021-08-07T01:28:00.293064Z",
          "iopub.execute_input": "2021-08-07T01:28:00.293456Z",
          "iopub.status.idle": "2021-08-07T01:28:00.354665Z",
          "shell.execute_reply.started": "2021-08-07T01:28:00.293424Z",
          "shell.execute_reply": "2021-08-07T01:28:00.353281Z"
        },
        "trusted": true,
        "id": "NPEPhlHhZUBa"
      },
      "execution_count": null,
      "outputs": []
    },
    {
      "cell_type": "markdown",
      "source": [
        "### Apply Feature Scaling"
      ],
      "metadata": {
        "id": "uc-LbXEqZUBb"
      }
    },
    {
      "cell_type": "code",
      "source": [
        "\n",
        "# scaler=MinMaxScaler()\n",
        "# X_train=scaler.fit_transform(X_train)\n",
        "# X_test=scaler.transform(X_test)\n"
      ],
      "metadata": {
        "execution": {
          "iopub.status.busy": "2021-08-07T01:28:00.356915Z",
          "iopub.execute_input": "2021-08-07T01:28:00.357253Z",
          "iopub.status.idle": "2021-08-07T01:28:00.361239Z",
          "shell.execute_reply.started": "2021-08-07T01:28:00.357222Z",
          "shell.execute_reply": "2021-08-07T01:28:00.36016Z"
        },
        "trusted": true,
        "id": "kHxeEDozZUBb"
      },
      "execution_count": null,
      "outputs": []
    },
    {
      "cell_type": "code",
      "source": [
        "scaler=StandardScaler()\n",
        "X_train=scaler.fit_transform(X_train)\n",
        "X_test=scaler.transform(X_test)\n"
      ],
      "metadata": {
        "execution": {
          "iopub.status.busy": "2021-08-07T01:28:00.362653Z",
          "iopub.execute_input": "2021-08-07T01:28:00.363081Z",
          "iopub.status.idle": "2021-08-07T01:28:00.383582Z",
          "shell.execute_reply.started": "2021-08-07T01:28:00.363041Z",
          "shell.execute_reply": "2021-08-07T01:28:00.382372Z"
        },
        "trusted": true,
        "id": "hGSyFP05ZUBb"
      },
      "execution_count": null,
      "outputs": []
    },
    {
      "cell_type": "code",
      "source": [
        "#print(pd.DataFrame(X_train).describe())"
      ],
      "metadata": {
        "execution": {
          "iopub.status.busy": "2021-08-07T01:28:00.385229Z",
          "iopub.execute_input": "2021-08-07T01:28:00.385677Z",
          "iopub.status.idle": "2021-08-07T01:28:00.389342Z",
          "shell.execute_reply.started": "2021-08-07T01:28:00.385632Z",
          "shell.execute_reply": "2021-08-07T01:28:00.388497Z"
        },
        "trusted": true,
        "id": "ecVI_DUvZUBb"
      },
      "execution_count": null,
      "outputs": []
    },
    {
      "cell_type": "code",
      "source": [
        "'''\n",
        "\n",
        "from sklearn.ensemble import ExtraTreesRegressor\n",
        "\n",
        "regr = ExtraTreesRegressor(random_state=0)\n",
        "regr.fit(X_train, y_train)\n",
        "\n",
        "y_pred=regr.predict(X_test)\n",
        "\n",
        "print(regr.score(X_test, y_test))\n",
        "\n",
        "y_test, y_pred = np.expm1(y_test), np.expm1(y_pred)\n",
        "rmsle = np.sqrt(mean_squared_log_error(y_test, y_pred))\n",
        "print(rmsle)\n",
        "'''"
      ],
      "metadata": {
        "execution": {
          "iopub.status.busy": "2021-08-07T01:28:00.390538Z",
          "iopub.execute_input": "2021-08-07T01:28:00.39105Z",
          "iopub.status.idle": "2021-08-07T01:28:00.402162Z",
          "shell.execute_reply.started": "2021-08-07T01:28:00.391014Z",
          "shell.execute_reply": "2021-08-07T01:28:00.401098Z"
        },
        "trusted": true,
        "id": "o4LNWtN5ZUBc"
      },
      "execution_count": null,
      "outputs": []
    },
    {
      "cell_type": "code",
      "source": [
        "#len(np.where(y_pred < y_test)[0])"
      ],
      "metadata": {
        "execution": {
          "iopub.status.busy": "2021-08-07T01:28:00.403628Z",
          "iopub.execute_input": "2021-08-07T01:28:00.404406Z",
          "iopub.status.idle": "2021-08-07T01:28:00.411074Z",
          "shell.execute_reply.started": "2021-08-07T01:28:00.40437Z",
          "shell.execute_reply": "2021-08-07T01:28:00.410204Z"
        },
        "trusted": true,
        "id": "Up6VTAqjZUBc"
      },
      "execution_count": null,
      "outputs": []
    },
    {
      "cell_type": "markdown",
      "source": [
        "# **XGB**"
      ],
      "metadata": {
        "id": "J-UV3qVXZUBd"
      }
    },
    {
      "cell_type": "code",
      "source": [
        "from xgboost import XGBRegressor\n",
        "XGBModel = XGBRegressor(objective=\"reg:tweedie\", tweedie_variance_power=1.6, gamma=2, max_depth=6, subsample=.7, reg_alpha=0.15, reg_lambda=1, learning_rate= 0.15)"
      ],
      "metadata": {
        "execution": {
          "iopub.status.busy": "2021-08-07T01:28:00.412543Z",
          "iopub.execute_input": "2021-08-07T01:28:00.413181Z",
          "iopub.status.idle": "2021-08-07T01:28:00.421795Z",
          "shell.execute_reply.started": "2021-08-07T01:28:00.413147Z",
          "shell.execute_reply": "2021-08-07T01:28:00.420836Z"
        },
        "trusted": true,
        "id": "whykT0zDZUBd"
      },
      "execution_count": null,
      "outputs": []
    },
    {
      "cell_type": "code",
      "source": [
        "X_train=scaler.fit_transform(X_train)\n",
        "X_test=scaler.transform(X_test)\n",
        "XGBModel = XGBModel.fit(X_train, y_train, verbose=False)\n",
        "print(XGBModel.score(X_test, y_test))"
      ],
      "metadata": {
        "execution": {
          "iopub.status.busy": "2021-08-07T01:28:00.423387Z",
          "iopub.execute_input": "2021-08-07T01:28:00.424074Z",
          "iopub.status.idle": "2021-08-07T01:28:00.938096Z",
          "shell.execute_reply.started": "2021-08-07T01:28:00.424036Z",
          "shell.execute_reply": "2021-08-07T01:28:00.93697Z"
        },
        "trusted": true,
        "id": "9Cx1IDb3ZUBd"
      },
      "execution_count": null,
      "outputs": []
    },
    {
      "cell_type": "code",
      "source": [
        "y_test"
      ],
      "metadata": {
        "execution": {
          "iopub.status.busy": "2021-08-07T01:28:00.942375Z",
          "iopub.execute_input": "2021-08-07T01:28:00.942753Z",
          "iopub.status.idle": "2021-08-07T01:28:00.95327Z",
          "shell.execute_reply.started": "2021-08-07T01:28:00.942715Z",
          "shell.execute_reply": "2021-08-07T01:28:00.951978Z"
        },
        "trusted": true,
        "id": "LERrTo9HZUBe"
      },
      "execution_count": null,
      "outputs": []
    },
    {
      "cell_type": "code",
      "source": [
        "y_pred = XGBModel.predict(X_test)\n",
        "rmsle = np.sqrt(mean_squared_log_error(y_test, y_pred))\n",
        "print(rmsle)"
      ],
      "metadata": {
        "execution": {
          "iopub.status.busy": "2021-08-07T01:28:00.954618Z",
          "iopub.execute_input": "2021-08-07T01:28:00.955001Z",
          "iopub.status.idle": "2021-08-07T01:28:00.971375Z",
          "shell.execute_reply.started": "2021-08-07T01:28:00.954965Z",
          "shell.execute_reply": "2021-08-07T01:28:00.970268Z"
        },
        "trusted": true,
        "id": "2_yCxPCXZUBf"
      },
      "execution_count": null,
      "outputs": []
    },
    {
      "cell_type": "code",
      "source": [
        "len(np.where(y_pred < y_test)[0])"
      ],
      "metadata": {
        "execution": {
          "iopub.status.busy": "2021-08-07T01:28:00.973034Z",
          "iopub.execute_input": "2021-08-07T01:28:00.973609Z",
          "iopub.status.idle": "2021-08-07T01:28:00.981164Z",
          "shell.execute_reply.started": "2021-08-07T01:28:00.973572Z",
          "shell.execute_reply": "2021-08-07T01:28:00.980313Z"
        },
        "trusted": true,
        "id": "hDs-L2PMZUBf"
      },
      "execution_count": null,
      "outputs": []
    },
    {
      "cell_type": "code",
      "source": [
        "print(df_temp[df_temp[\"y\"] < 0])"
      ],
      "metadata": {
        "execution": {
          "iopub.status.busy": "2021-08-07T01:28:00.982534Z",
          "iopub.execute_input": "2021-08-07T01:28:00.983128Z",
          "iopub.status.idle": "2021-08-07T01:28:00.991779Z",
          "shell.execute_reply.started": "2021-08-07T01:28:00.98309Z",
          "shell.execute_reply": "2021-08-07T01:28:00.990773Z"
        },
        "trusted": true,
        "id": "54jYEJrcZUBg"
      },
      "execution_count": null,
      "outputs": []
    },
    {
      "cell_type": "code",
      "source": [
        "sns.histplot(df_temp[\"y\"])"
      ],
      "metadata": {
        "execution": {
          "iopub.status.busy": "2021-08-07T01:28:00.993101Z",
          "iopub.execute_input": "2021-08-07T01:28:00.993557Z",
          "iopub.status.idle": "2021-08-07T01:28:01.261658Z",
          "shell.execute_reply.started": "2021-08-07T01:28:00.993527Z",
          "shell.execute_reply": "2021-08-07T01:28:01.260732Z"
        },
        "trusted": true,
        "id": "QOIDsKyQZUBg"
      },
      "execution_count": null,
      "outputs": []
    },
    {
      "cell_type": "code",
      "source": [
        "sns.histplot(y_train, bins=20)"
      ],
      "metadata": {
        "execution": {
          "iopub.status.busy": "2021-08-07T01:28:01.262921Z",
          "iopub.execute_input": "2021-08-07T01:28:01.263201Z",
          "iopub.status.idle": "2021-08-07T01:28:01.489466Z",
          "shell.execute_reply.started": "2021-08-07T01:28:01.263174Z",
          "shell.execute_reply": "2021-08-07T01:28:01.488279Z"
        },
        "trusted": true,
        "id": "Mm3yOqIJZUBg"
      },
      "execution_count": null,
      "outputs": []
    },
    {
      "cell_type": "code",
      "source": [
        "sns.histplot(y_test, bins=20)"
      ],
      "metadata": {
        "execution": {
          "iopub.status.busy": "2021-08-07T01:28:01.490667Z",
          "iopub.execute_input": "2021-08-07T01:28:01.490968Z",
          "iopub.status.idle": "2021-08-07T01:28:01.729305Z",
          "shell.execute_reply.started": "2021-08-07T01:28:01.490939Z",
          "shell.execute_reply": "2021-08-07T01:28:01.728331Z"
        },
        "trusted": true,
        "id": "QgSplu9qZUBh"
      },
      "execution_count": null,
      "outputs": []
    },
    {
      "cell_type": "code",
      "source": [
        "sns.histplot(y_pred, bins=20)"
      ],
      "metadata": {
        "execution": {
          "iopub.status.busy": "2021-08-07T01:28:01.730661Z",
          "iopub.execute_input": "2021-08-07T01:28:01.731026Z",
          "iopub.status.idle": "2021-08-07T01:28:01.953261Z",
          "shell.execute_reply.started": "2021-08-07T01:28:01.730995Z",
          "shell.execute_reply": "2021-08-07T01:28:01.9523Z"
        },
        "trusted": true,
        "id": "uFr5mNjFZUBh"
      },
      "execution_count": null,
      "outputs": []
    },
    {
      "cell_type": "code",
      "source": [
        "sns.scatterplot(y_pred, y_test)"
      ],
      "metadata": {
        "execution": {
          "iopub.status.busy": "2021-08-07T01:28:01.954568Z",
          "iopub.execute_input": "2021-08-07T01:28:01.954855Z",
          "iopub.status.idle": "2021-08-07T01:28:02.139881Z",
          "shell.execute_reply.started": "2021-08-07T01:28:01.954821Z",
          "shell.execute_reply": "2021-08-07T01:28:02.138832Z"
        },
        "trusted": true,
        "id": "350lTZYeZUBh"
      },
      "execution_count": null,
      "outputs": []
    },
    {
      "cell_type": "code",
      "source": [
        "sns.histplot(y_pred-y_test)"
      ],
      "metadata": {
        "execution": {
          "iopub.status.busy": "2021-08-07T01:28:02.141382Z",
          "iopub.execute_input": "2021-08-07T01:28:02.141779Z",
          "iopub.status.idle": "2021-08-07T01:28:02.348441Z",
          "shell.execute_reply.started": "2021-08-07T01:28:02.141737Z",
          "shell.execute_reply": "2021-08-07T01:28:02.3474Z"
        },
        "trusted": true,
        "id": "bwG85d39ZUBi"
      },
      "execution_count": null,
      "outputs": []
    },
    {
      "cell_type": "code",
      "source": [
        "print(np.sum(np.abs(y_pred - y_test) > 100))"
      ],
      "metadata": {
        "execution": {
          "iopub.status.busy": "2021-08-07T01:28:02.349712Z",
          "iopub.execute_input": "2021-08-07T01:28:02.349998Z",
          "iopub.status.idle": "2021-08-07T01:28:02.356147Z",
          "shell.execute_reply.started": "2021-08-07T01:28:02.349971Z",
          "shell.execute_reply": "2021-08-07T01:28:02.355252Z"
        },
        "trusted": true,
        "id": "POywbRW6ZUBi"
      },
      "execution_count": null,
      "outputs": []
    },
    {
      "cell_type": "code",
      "source": [
        "len(y_test)"
      ],
      "metadata": {
        "execution": {
          "iopub.status.busy": "2021-08-07T01:28:02.357642Z",
          "iopub.execute_input": "2021-08-07T01:28:02.357988Z",
          "iopub.status.idle": "2021-08-07T01:28:02.371539Z",
          "shell.execute_reply.started": "2021-08-07T01:28:02.357955Z",
          "shell.execute_reply": "2021-08-07T01:28:02.370379Z"
        },
        "trusted": true,
        "id": "fwFciXEGZUBi"
      },
      "execution_count": null,
      "outputs": []
    },
    {
      "cell_type": "code",
      "source": [
        "df_test.head()"
      ],
      "metadata": {
        "execution": {
          "iopub.status.busy": "2021-08-07T01:28:02.373023Z",
          "iopub.execute_input": "2021-08-07T01:28:02.373436Z",
          "iopub.status.idle": "2021-08-07T01:28:02.402053Z",
          "shell.execute_reply.started": "2021-08-07T01:28:02.373335Z",
          "shell.execute_reply": "2021-08-07T01:28:02.401086Z"
        },
        "trusted": true,
        "id": "2ms50PbZZUBi"
      },
      "execution_count": null,
      "outputs": []
    },
    {
      "cell_type": "code",
      "source": [
        "\n",
        "df_test=pre_processing(df_test)"
      ],
      "metadata": {
        "execution": {
          "iopub.status.busy": "2021-08-07T01:28:02.403167Z",
          "iopub.execute_input": "2021-08-07T01:28:02.40346Z",
          "iopub.status.idle": "2021-08-07T01:28:02.415505Z",
          "shell.execute_reply.started": "2021-08-07T01:28:02.403433Z",
          "shell.execute_reply": "2021-08-07T01:28:02.414241Z"
        },
        "trusted": true,
        "id": "Ad7yPw4GZUBj"
      },
      "execution_count": null,
      "outputs": []
    },
    {
      "cell_type": "code",
      "source": [
        "df_test.head()"
      ],
      "metadata": {
        "execution": {
          "iopub.status.busy": "2021-08-07T01:28:02.417063Z",
          "iopub.execute_input": "2021-08-07T01:28:02.417505Z",
          "iopub.status.idle": "2021-08-07T01:28:02.437745Z",
          "shell.execute_reply.started": "2021-08-07T01:28:02.417473Z",
          "shell.execute_reply": "2021-08-07T01:28:02.436424Z"
        },
        "trusted": true,
        "id": "gW0Mh34vZUBm"
      },
      "execution_count": null,
      "outputs": []
    },
    {
      "cell_type": "code",
      "source": [
        "df_test[df_test['Functioning Day']==0]"
      ],
      "metadata": {
        "execution": {
          "iopub.status.busy": "2021-08-07T01:28:02.438833Z",
          "iopub.execute_input": "2021-08-07T01:28:02.439121Z",
          "iopub.status.idle": "2021-08-07T01:28:02.48317Z",
          "shell.execute_reply.started": "2021-08-07T01:28:02.439091Z",
          "shell.execute_reply": "2021-08-07T01:28:02.482031Z"
        },
        "trusted": true,
        "id": "6cenLQHtZUBn"
      },
      "execution_count": null,
      "outputs": []
    },
    {
      "cell_type": "code",
      "source": [
        "X_test = df_test.drop(columns=['Month','Day'])\n",
        "X_test=scaler.transform(X_test)\n",
        "# You should update/remove the next line once you change the features used for training\n",
        "y_test_predicted = XGBModel.predict(X_test)\n",
        "df_test['y'] = y_test_predicted\n",
        "df_test['ID']=df_test_ids\n",
        "df_test.head()\n",
        "df_test[['ID', 'y']].to_csv('/kaggle/working/submission.csv', index=False)"
      ],
      "metadata": {
        "execution": {
          "iopub.status.busy": "2021-08-07T01:28:02.48452Z",
          "iopub.execute_input": "2021-08-07T01:28:02.484811Z",
          "iopub.status.idle": "2021-08-07T01:28:02.516073Z",
          "shell.execute_reply.started": "2021-08-07T01:28:02.484783Z",
          "shell.execute_reply": "2021-08-07T01:28:02.515212Z"
        },
        "trusted": true,
        "id": "iXmbaz6BZUBn"
      },
      "execution_count": null,
      "outputs": []
    },
    {
      "cell_type": "code",
      "source": [
        "X_test = df_test.drop(columns=['Month','Day'])\n",
        "X_test.head()"
      ],
      "metadata": {
        "execution": {
          "iopub.status.busy": "2021-08-07T01:28:02.517045Z",
          "iopub.execute_input": "2021-08-07T01:28:02.517443Z",
          "iopub.status.idle": "2021-08-07T01:28:02.535911Z",
          "shell.execute_reply.started": "2021-08-07T01:28:02.517414Z",
          "shell.execute_reply": "2021-08-07T01:28:02.53492Z"
        },
        "trusted": true,
        "id": "BvRdzIZ3ZUBn"
      },
      "execution_count": null,
      "outputs": []
    },
    {
      "cell_type": "code",
      "source": [
        "df_test.describe()"
      ],
      "metadata": {
        "execution": {
          "iopub.status.busy": "2021-08-07T01:28:02.537327Z",
          "iopub.execute_input": "2021-08-07T01:28:02.53765Z",
          "iopub.status.idle": "2021-08-07T01:28:02.602369Z",
          "shell.execute_reply.started": "2021-08-07T01:28:02.537608Z",
          "shell.execute_reply": "2021-08-07T01:28:02.601371Z"
        },
        "trusted": true,
        "id": "Te8DH4pBZUBn"
      },
      "execution_count": null,
      "outputs": []
    },
    {
      "cell_type": "code",
      "source": [
        "df_test[df_test['Functioning Day']==0]"
      ],
      "metadata": {
        "execution": {
          "iopub.status.busy": "2021-08-07T01:28:02.603661Z",
          "iopub.execute_input": "2021-08-07T01:28:02.603936Z",
          "iopub.status.idle": "2021-08-07T01:28:02.654418Z",
          "shell.execute_reply.started": "2021-08-07T01:28:02.603909Z",
          "shell.execute_reply": "2021-08-07T01:28:02.653346Z"
        },
        "trusted": true,
        "id": "xxQco-cLZUBo"
      },
      "execution_count": null,
      "outputs": []
    },
    {
      "cell_type": "code",
      "source": [],
      "metadata": {
        "id": "_coc9hqGZUBo"
      },
      "execution_count": null,
      "outputs": []
    }
  ]
}
